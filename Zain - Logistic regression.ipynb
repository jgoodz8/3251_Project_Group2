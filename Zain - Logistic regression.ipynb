{
 "cells": [
  {
   "cell_type": "markdown",
   "metadata": {},
   "source": [
    "#### 0.0: Library setup"
   ]
  },
  {
   "cell_type": "code",
   "execution_count": 1,
   "metadata": {},
   "outputs": [],
   "source": [
    "import pandas as pd\n",
    "import seaborn as sns\n",
    "import matplotlib.pyplot as plt\n",
    "from sklearn.preprocessing import OneHotEncoder\n",
    "import numpy as np"
   ]
  },
  {
   "cell_type": "code",
   "execution_count": 2,
   "metadata": {},
   "outputs": [],
   "source": [
    "df= pd.read_csv('https://raw.githubusercontent.com/jgoodz8/3251_Project_Group2/master/AutoInsurance.csv')\n",
    "df['Binary Response']= np.where(df['Response']==\"Yes\",1,0)"
   ]
  },
  {
   "cell_type": "code",
   "execution_count": 3,
   "metadata": {},
   "outputs": [
    {
     "data": {
      "text/html": [
       "<div>\n",
       "<style scoped>\n",
       "    .dataframe tbody tr th:only-of-type {\n",
       "        vertical-align: middle;\n",
       "    }\n",
       "\n",
       "    .dataframe tbody tr th {\n",
       "        vertical-align: top;\n",
       "    }\n",
       "\n",
       "    .dataframe thead th {\n",
       "        text-align: right;\n",
       "    }\n",
       "</style>\n",
       "<table border=\"1\" class=\"dataframe\">\n",
       "  <thead>\n",
       "    <tr style=\"text-align: right;\">\n",
       "      <th></th>\n",
       "      <th>0</th>\n",
       "      <th>1</th>\n",
       "      <th>2</th>\n",
       "      <th>3</th>\n",
       "      <th>4</th>\n",
       "    </tr>\n",
       "  </thead>\n",
       "  <tbody>\n",
       "    <tr>\n",
       "      <th>Customer</th>\n",
       "      <td>BU79786</td>\n",
       "      <td>QZ44356</td>\n",
       "      <td>AI49188</td>\n",
       "      <td>WW63253</td>\n",
       "      <td>HB64268</td>\n",
       "    </tr>\n",
       "    <tr>\n",
       "      <th>State</th>\n",
       "      <td>Washington</td>\n",
       "      <td>Arizona</td>\n",
       "      <td>Nevada</td>\n",
       "      <td>California</td>\n",
       "      <td>Washington</td>\n",
       "    </tr>\n",
       "    <tr>\n",
       "      <th>Customer Lifetime Value</th>\n",
       "      <td>2763.52</td>\n",
       "      <td>6979.54</td>\n",
       "      <td>12887.4</td>\n",
       "      <td>7645.86</td>\n",
       "      <td>2813.69</td>\n",
       "    </tr>\n",
       "    <tr>\n",
       "      <th>Response</th>\n",
       "      <td>No</td>\n",
       "      <td>No</td>\n",
       "      <td>No</td>\n",
       "      <td>No</td>\n",
       "      <td>No</td>\n",
       "    </tr>\n",
       "    <tr>\n",
       "      <th>Coverage</th>\n",
       "      <td>Basic</td>\n",
       "      <td>Extended</td>\n",
       "      <td>Premium</td>\n",
       "      <td>Basic</td>\n",
       "      <td>Basic</td>\n",
       "    </tr>\n",
       "    <tr>\n",
       "      <th>Education</th>\n",
       "      <td>Bachelor</td>\n",
       "      <td>Bachelor</td>\n",
       "      <td>Bachelor</td>\n",
       "      <td>Bachelor</td>\n",
       "      <td>Bachelor</td>\n",
       "    </tr>\n",
       "    <tr>\n",
       "      <th>Effective To Date</th>\n",
       "      <td>2/24/11</td>\n",
       "      <td>1/31/11</td>\n",
       "      <td>2/19/11</td>\n",
       "      <td>1/20/11</td>\n",
       "      <td>3/2/2011</td>\n",
       "    </tr>\n",
       "    <tr>\n",
       "      <th>EmploymentStatus</th>\n",
       "      <td>Employed</td>\n",
       "      <td>Unemployed</td>\n",
       "      <td>Employed</td>\n",
       "      <td>Unemployed</td>\n",
       "      <td>Employed</td>\n",
       "    </tr>\n",
       "    <tr>\n",
       "      <th>Gender</th>\n",
       "      <td>F</td>\n",
       "      <td>F</td>\n",
       "      <td>F</td>\n",
       "      <td>M</td>\n",
       "      <td>M</td>\n",
       "    </tr>\n",
       "    <tr>\n",
       "      <th>Income</th>\n",
       "      <td>56274</td>\n",
       "      <td>0</td>\n",
       "      <td>48767</td>\n",
       "      <td>0</td>\n",
       "      <td>43836</td>\n",
       "    </tr>\n",
       "    <tr>\n",
       "      <th>Location Code</th>\n",
       "      <td>Suburban</td>\n",
       "      <td>Suburban</td>\n",
       "      <td>Suburban</td>\n",
       "      <td>Suburban</td>\n",
       "      <td>Rural</td>\n",
       "    </tr>\n",
       "    <tr>\n",
       "      <th>Marital Status</th>\n",
       "      <td>Married</td>\n",
       "      <td>Single</td>\n",
       "      <td>Married</td>\n",
       "      <td>Married</td>\n",
       "      <td>Single</td>\n",
       "    </tr>\n",
       "    <tr>\n",
       "      <th>Monthly Premium Auto</th>\n",
       "      <td>69</td>\n",
       "      <td>94</td>\n",
       "      <td>108</td>\n",
       "      <td>106</td>\n",
       "      <td>73</td>\n",
       "    </tr>\n",
       "    <tr>\n",
       "      <th>Months Since Last Claim</th>\n",
       "      <td>32</td>\n",
       "      <td>13</td>\n",
       "      <td>18</td>\n",
       "      <td>18</td>\n",
       "      <td>12</td>\n",
       "    </tr>\n",
       "    <tr>\n",
       "      <th>Months Since Policy Inception</th>\n",
       "      <td>5</td>\n",
       "      <td>42</td>\n",
       "      <td>38</td>\n",
       "      <td>65</td>\n",
       "      <td>44</td>\n",
       "    </tr>\n",
       "    <tr>\n",
       "      <th>Number of Open Complaints</th>\n",
       "      <td>0</td>\n",
       "      <td>0</td>\n",
       "      <td>0</td>\n",
       "      <td>0</td>\n",
       "      <td>0</td>\n",
       "    </tr>\n",
       "    <tr>\n",
       "      <th>Number of Policies</th>\n",
       "      <td>1</td>\n",
       "      <td>8</td>\n",
       "      <td>2</td>\n",
       "      <td>7</td>\n",
       "      <td>1</td>\n",
       "    </tr>\n",
       "    <tr>\n",
       "      <th>Policy Type</th>\n",
       "      <td>Corporate Auto</td>\n",
       "      <td>Personal Auto</td>\n",
       "      <td>Personal Auto</td>\n",
       "      <td>Corporate Auto</td>\n",
       "      <td>Personal Auto</td>\n",
       "    </tr>\n",
       "    <tr>\n",
       "      <th>Policy</th>\n",
       "      <td>Corporate L3</td>\n",
       "      <td>Personal L3</td>\n",
       "      <td>Personal L3</td>\n",
       "      <td>Corporate L2</td>\n",
       "      <td>Personal L1</td>\n",
       "    </tr>\n",
       "    <tr>\n",
       "      <th>Renew Offer Type</th>\n",
       "      <td>Offer1</td>\n",
       "      <td>Offer3</td>\n",
       "      <td>Offer1</td>\n",
       "      <td>Offer1</td>\n",
       "      <td>Offer1</td>\n",
       "    </tr>\n",
       "    <tr>\n",
       "      <th>Sales Channel</th>\n",
       "      <td>Agent</td>\n",
       "      <td>Agent</td>\n",
       "      <td>Agent</td>\n",
       "      <td>Call Center</td>\n",
       "      <td>Agent</td>\n",
       "    </tr>\n",
       "    <tr>\n",
       "      <th>Total Claim Amount</th>\n",
       "      <td>384.811</td>\n",
       "      <td>1131.46</td>\n",
       "      <td>566.472</td>\n",
       "      <td>529.881</td>\n",
       "      <td>138.131</td>\n",
       "    </tr>\n",
       "    <tr>\n",
       "      <th>Vehicle Class</th>\n",
       "      <td>Two-Door Car</td>\n",
       "      <td>Four-Door Car</td>\n",
       "      <td>Two-Door Car</td>\n",
       "      <td>SUV</td>\n",
       "      <td>Four-Door Car</td>\n",
       "    </tr>\n",
       "    <tr>\n",
       "      <th>Vehicle Size</th>\n",
       "      <td>Medsize</td>\n",
       "      <td>Medsize</td>\n",
       "      <td>Medsize</td>\n",
       "      <td>Medsize</td>\n",
       "      <td>Medsize</td>\n",
       "    </tr>\n",
       "    <tr>\n",
       "      <th>Binary Response</th>\n",
       "      <td>0</td>\n",
       "      <td>0</td>\n",
       "      <td>0</td>\n",
       "      <td>0</td>\n",
       "      <td>0</td>\n",
       "    </tr>\n",
       "  </tbody>\n",
       "</table>\n",
       "</div>"
      ],
      "text/plain": [
       "                                            0              1              2  \\\n",
       "Customer                              BU79786        QZ44356        AI49188   \n",
       "State                              Washington        Arizona         Nevada   \n",
       "Customer Lifetime Value               2763.52        6979.54        12887.4   \n",
       "Response                                   No             No             No   \n",
       "Coverage                                Basic       Extended        Premium   \n",
       "Education                            Bachelor       Bachelor       Bachelor   \n",
       "Effective To Date                     2/24/11        1/31/11        2/19/11   \n",
       "EmploymentStatus                     Employed     Unemployed       Employed   \n",
       "Gender                                      F              F              F   \n",
       "Income                                  56274              0          48767   \n",
       "Location Code                        Suburban       Suburban       Suburban   \n",
       "Marital Status                        Married         Single        Married   \n",
       "Monthly Premium Auto                       69             94            108   \n",
       "Months Since Last Claim                    32             13             18   \n",
       "Months Since Policy Inception               5             42             38   \n",
       "Number of Open Complaints                   0              0              0   \n",
       "Number of Policies                          1              8              2   \n",
       "Policy Type                    Corporate Auto  Personal Auto  Personal Auto   \n",
       "Policy                           Corporate L3    Personal L3    Personal L3   \n",
       "Renew Offer Type                       Offer1         Offer3         Offer1   \n",
       "Sales Channel                           Agent          Agent          Agent   \n",
       "Total Claim Amount                    384.811        1131.46        566.472   \n",
       "Vehicle Class                    Two-Door Car  Four-Door Car   Two-Door Car   \n",
       "Vehicle Size                          Medsize        Medsize        Medsize   \n",
       "Binary Response                             0              0              0   \n",
       "\n",
       "                                            3              4  \n",
       "Customer                              WW63253        HB64268  \n",
       "State                              California     Washington  \n",
       "Customer Lifetime Value               7645.86        2813.69  \n",
       "Response                                   No             No  \n",
       "Coverage                                Basic          Basic  \n",
       "Education                            Bachelor       Bachelor  \n",
       "Effective To Date                     1/20/11       3/2/2011  \n",
       "EmploymentStatus                   Unemployed       Employed  \n",
       "Gender                                      M              M  \n",
       "Income                                      0          43836  \n",
       "Location Code                        Suburban          Rural  \n",
       "Marital Status                        Married         Single  \n",
       "Monthly Premium Auto                      106             73  \n",
       "Months Since Last Claim                    18             12  \n",
       "Months Since Policy Inception              65             44  \n",
       "Number of Open Complaints                   0              0  \n",
       "Number of Policies                          7              1  \n",
       "Policy Type                    Corporate Auto  Personal Auto  \n",
       "Policy                           Corporate L2    Personal L1  \n",
       "Renew Offer Type                       Offer1         Offer1  \n",
       "Sales Channel                     Call Center          Agent  \n",
       "Total Claim Amount                    529.881        138.131  \n",
       "Vehicle Class                             SUV  Four-Door Car  \n",
       "Vehicle Size                          Medsize        Medsize  \n",
       "Binary Response                             0              0  "
      ]
     },
     "execution_count": 3,
     "metadata": {},
     "output_type": "execute_result"
    }
   ],
   "source": [
    "df.transpose().iloc[:,0:5]"
   ]
  },
  {
   "cell_type": "markdown",
   "metadata": {},
   "source": [
    "## **Goal**:   \n",
    "Using Logistic regression, Predict the response received through the marketing campaign.  \n",
    "- ['Response'] = Yes/No\n",
    "\n",
    "Using the following variables\n",
    "1. ['Renew Offer Type']\n",
    "2. ['Sales Channel']\n",
    "3. ['Gender']\n",
    "4. ['State']\n",
    "5. ['Income']\n",
    "6. ['Monthly Premium Auto']\n",
    "\n",
    "#### Assumptions:\n",
    "- Variables were picked based on intuition (i.e assuming that Monthly Premiums are more likely to influence renewal as opposed to the gender variable."
   ]
  },
  {
   "cell_type": "markdown",
   "metadata": {},
   "source": [
    "# 1. Preprocessing for Logistic regression"
   ]
  },
  {
   "cell_type": "code",
   "execution_count": 4,
   "metadata": {},
   "outputs": [
    {
     "data": {
      "text/html": [
       "<div>\n",
       "<style scoped>\n",
       "    .dataframe tbody tr th:only-of-type {\n",
       "        vertical-align: middle;\n",
       "    }\n",
       "\n",
       "    .dataframe tbody tr th {\n",
       "        vertical-align: top;\n",
       "    }\n",
       "\n",
       "    .dataframe thead th {\n",
       "        text-align: right;\n",
       "    }\n",
       "</style>\n",
       "<table border=\"1\" class=\"dataframe\">\n",
       "  <thead>\n",
       "    <tr style=\"text-align: right;\">\n",
       "      <th></th>\n",
       "      <th>0</th>\n",
       "      <th>1</th>\n",
       "      <th>2</th>\n",
       "      <th>3</th>\n",
       "      <th>4</th>\n",
       "    </tr>\n",
       "  </thead>\n",
       "  <tbody>\n",
       "    <tr>\n",
       "      <th>Renew Offer Type</th>\n",
       "      <td>Offer1</td>\n",
       "      <td>Offer3</td>\n",
       "      <td>Offer1</td>\n",
       "      <td>Offer1</td>\n",
       "      <td>Offer1</td>\n",
       "    </tr>\n",
       "    <tr>\n",
       "      <th>Sales Channel</th>\n",
       "      <td>Agent</td>\n",
       "      <td>Agent</td>\n",
       "      <td>Agent</td>\n",
       "      <td>Call Center</td>\n",
       "      <td>Agent</td>\n",
       "    </tr>\n",
       "    <tr>\n",
       "      <th>Gender</th>\n",
       "      <td>F</td>\n",
       "      <td>F</td>\n",
       "      <td>F</td>\n",
       "      <td>M</td>\n",
       "      <td>M</td>\n",
       "    </tr>\n",
       "    <tr>\n",
       "      <th>State</th>\n",
       "      <td>Washington</td>\n",
       "      <td>Arizona</td>\n",
       "      <td>Nevada</td>\n",
       "      <td>California</td>\n",
       "      <td>Washington</td>\n",
       "    </tr>\n",
       "    <tr>\n",
       "      <th>Income</th>\n",
       "      <td>56274</td>\n",
       "      <td>0</td>\n",
       "      <td>48767</td>\n",
       "      <td>0</td>\n",
       "      <td>43836</td>\n",
       "    </tr>\n",
       "    <tr>\n",
       "      <th>Monthly Premium Auto</th>\n",
       "      <td>69</td>\n",
       "      <td>94</td>\n",
       "      <td>108</td>\n",
       "      <td>106</td>\n",
       "      <td>73</td>\n",
       "    </tr>\n",
       "  </tbody>\n",
       "</table>\n",
       "</div>"
      ],
      "text/plain": [
       "                               0        1       2            3           4\n",
       "Renew Offer Type          Offer1   Offer3  Offer1       Offer1      Offer1\n",
       "Sales Channel              Agent    Agent   Agent  Call Center       Agent\n",
       "Gender                         F        F       F            M           M\n",
       "State                 Washington  Arizona  Nevada   California  Washington\n",
       "Income                     56274        0   48767            0       43836\n",
       "Monthly Premium Auto          69       94     108          106          73"
      ]
     },
     "execution_count": 4,
     "metadata": {},
     "output_type": "execute_result"
    }
   ],
   "source": [
    "regressors= ['Renew Offer Type','Sales Channel','Gender','State','Income','Monthly Premium Auto']\n",
    "df_log= df[regressors]\n",
    "df_log.transpose().iloc[:,0:5]"
   ]
  },
  {
   "cell_type": "markdown",
   "metadata": {},
   "source": [
    "### 1.1 Numeric Variables"
   ]
  },
  {
   "cell_type": "code",
   "execution_count": 5,
   "metadata": {},
   "outputs": [
    {
     "data": {
      "image/png": "[encoded data removed]",
      "text/plain": [
       "<Figure size 720x432 with 2 Axes>"
      ]
     },
     "metadata": {
      "needs_background": "light"
     },
     "output_type": "display_data"
    }
   ],
   "source": [
    "# Plot the histograms of the individual columns\n",
    "numeric= ['Income','Monthly Premium Auto']\n",
    "df_log[numeric].hist(figsize=(10,6))\n",
    "plt.show()"
   ]
  },
  {
   "cell_type": "markdown",
   "metadata": {},
   "source": [
    "### 1.2 Categorical Variables"
   ]
  },
  {
   "cell_type": "code",
   "execution_count": 6,
   "metadata": {},
   "outputs": [
    {
     "data": {
      "image/png": "[encoded data removed]",
      "text/plain": [
       "<Figure size 360x360 with 1 Axes>"
      ]
     },
     "metadata": {
      "needs_background": "light"
     },
     "output_type": "display_data"
    },
    {
     "data": {
      "image/png": "[encoded data removed]",
      "text/plain": [
       "<Figure size 360x360 with 1 Axes>"
      ]
     },
     "metadata": {
      "needs_background": "light"
     },
     "output_type": "display_data"
    },
    {
     "data": {
      "image/png": "[encoded data removed]",
      "text/plain": [
       "<Figure size 360x360 with 1 Axes>"
      ]
     },
     "metadata": {
      "needs_background": "light"
     },
     "output_type": "display_data"
    },
    {
     "data": {
      "image/png": "[encoded data removed]",
      "text/plain": [
       "<Figure size 360x360 with 1 Axes>"
      ]
     },
     "metadata": {
      "needs_background": "light"
     },
     "output_type": "display_data"
    }
   ],
   "source": [
    "categoric= ['Renew Offer Type','Sales Channel','Gender','State']\n",
    "sns.catplot('Renew Offer Type',kind=\"count\",data=df_log)\n",
    "sns.catplot('Sales Channel',kind=\"count\",data=df_log)\n",
    "sns.catplot('State',kind=\"count\",data=df_log)\n",
    "sns.catplot('Gender',kind=\"count\",data=df_log)\n",
    "plt.show()"
   ]
  },
  {
   "cell_type": "code",
   "execution_count": 7,
   "metadata": {},
   "outputs": [
    {
     "data": {
      "text/html": [
       "<div>\n",
       "<style scoped>\n",
       "    .dataframe tbody tr th:only-of-type {\n",
       "        vertical-align: middle;\n",
       "    }\n",
       "\n",
       "    .dataframe tbody tr th {\n",
       "        vertical-align: top;\n",
       "    }\n",
       "\n",
       "    .dataframe thead th {\n",
       "        text-align: right;\n",
       "    }\n",
       "</style>\n",
       "<table border=\"1\" class=\"dataframe\">\n",
       "  <thead>\n",
       "    <tr style=\"text-align: right;\">\n",
       "      <th></th>\n",
       "      <th>0</th>\n",
       "      <th>1</th>\n",
       "      <th>2</th>\n",
       "      <th>3</th>\n",
       "      <th>4</th>\n",
       "    </tr>\n",
       "  </thead>\n",
       "  <tbody>\n",
       "    <tr>\n",
       "      <th>Income</th>\n",
       "      <td>56274</td>\n",
       "      <td>0</td>\n",
       "      <td>48767</td>\n",
       "      <td>0</td>\n",
       "      <td>43836</td>\n",
       "    </tr>\n",
       "    <tr>\n",
       "      <th>Monthly Premium Auto</th>\n",
       "      <td>69</td>\n",
       "      <td>94</td>\n",
       "      <td>108</td>\n",
       "      <td>106</td>\n",
       "      <td>73</td>\n",
       "    </tr>\n",
       "    <tr>\n",
       "      <th>Renew Offer Type_Offer1</th>\n",
       "      <td>1</td>\n",
       "      <td>0</td>\n",
       "      <td>1</td>\n",
       "      <td>1</td>\n",
       "      <td>1</td>\n",
       "    </tr>\n",
       "    <tr>\n",
       "      <th>Renew Offer Type_Offer2</th>\n",
       "      <td>0</td>\n",
       "      <td>0</td>\n",
       "      <td>0</td>\n",
       "      <td>0</td>\n",
       "      <td>0</td>\n",
       "    </tr>\n",
       "    <tr>\n",
       "      <th>Renew Offer Type_Offer3</th>\n",
       "      <td>0</td>\n",
       "      <td>1</td>\n",
       "      <td>0</td>\n",
       "      <td>0</td>\n",
       "      <td>0</td>\n",
       "    </tr>\n",
       "    <tr>\n",
       "      <th>Renew Offer Type_Offer4</th>\n",
       "      <td>0</td>\n",
       "      <td>0</td>\n",
       "      <td>0</td>\n",
       "      <td>0</td>\n",
       "      <td>0</td>\n",
       "    </tr>\n",
       "    <tr>\n",
       "      <th>Sales Channel_Agent</th>\n",
       "      <td>1</td>\n",
       "      <td>1</td>\n",
       "      <td>1</td>\n",
       "      <td>0</td>\n",
       "      <td>1</td>\n",
       "    </tr>\n",
       "    <tr>\n",
       "      <th>Sales Channel_Branch</th>\n",
       "      <td>0</td>\n",
       "      <td>0</td>\n",
       "      <td>0</td>\n",
       "      <td>0</td>\n",
       "      <td>0</td>\n",
       "    </tr>\n",
       "    <tr>\n",
       "      <th>Sales Channel_Call Center</th>\n",
       "      <td>0</td>\n",
       "      <td>0</td>\n",
       "      <td>0</td>\n",
       "      <td>1</td>\n",
       "      <td>0</td>\n",
       "    </tr>\n",
       "    <tr>\n",
       "      <th>Sales Channel_Web</th>\n",
       "      <td>0</td>\n",
       "      <td>0</td>\n",
       "      <td>0</td>\n",
       "      <td>0</td>\n",
       "      <td>0</td>\n",
       "    </tr>\n",
       "    <tr>\n",
       "      <th>Gender_F</th>\n",
       "      <td>1</td>\n",
       "      <td>1</td>\n",
       "      <td>1</td>\n",
       "      <td>0</td>\n",
       "      <td>0</td>\n",
       "    </tr>\n",
       "    <tr>\n",
       "      <th>Gender_M</th>\n",
       "      <td>0</td>\n",
       "      <td>0</td>\n",
       "      <td>0</td>\n",
       "      <td>1</td>\n",
       "      <td>1</td>\n",
       "    </tr>\n",
       "    <tr>\n",
       "      <th>State_Arizona</th>\n",
       "      <td>0</td>\n",
       "      <td>1</td>\n",
       "      <td>0</td>\n",
       "      <td>0</td>\n",
       "      <td>0</td>\n",
       "    </tr>\n",
       "    <tr>\n",
       "      <th>State_California</th>\n",
       "      <td>0</td>\n",
       "      <td>0</td>\n",
       "      <td>0</td>\n",
       "      <td>1</td>\n",
       "      <td>0</td>\n",
       "    </tr>\n",
       "    <tr>\n",
       "      <th>State_Nevada</th>\n",
       "      <td>0</td>\n",
       "      <td>0</td>\n",
       "      <td>1</td>\n",
       "      <td>0</td>\n",
       "      <td>0</td>\n",
       "    </tr>\n",
       "    <tr>\n",
       "      <th>State_Oregon</th>\n",
       "      <td>0</td>\n",
       "      <td>0</td>\n",
       "      <td>0</td>\n",
       "      <td>0</td>\n",
       "      <td>0</td>\n",
       "    </tr>\n",
       "    <tr>\n",
       "      <th>State_Washington</th>\n",
       "      <td>1</td>\n",
       "      <td>0</td>\n",
       "      <td>0</td>\n",
       "      <td>0</td>\n",
       "      <td>1</td>\n",
       "    </tr>\n",
       "  </tbody>\n",
       "</table>\n",
       "</div>"
      ],
      "text/plain": [
       "                               0   1      2    3      4\n",
       "Income                     56274   0  48767    0  43836\n",
       "Monthly Premium Auto          69  94    108  106     73\n",
       "Renew Offer Type_Offer1        1   0      1    1      1\n",
       "Renew Offer Type_Offer2        0   0      0    0      0\n",
       "Renew Offer Type_Offer3        0   1      0    0      0\n",
       "Renew Offer Type_Offer4        0   0      0    0      0\n",
       "Sales Channel_Agent            1   1      1    0      1\n",
       "Sales Channel_Branch           0   0      0    0      0\n",
       "Sales Channel_Call Center      0   0      0    1      0\n",
       "Sales Channel_Web              0   0      0    0      0\n",
       "Gender_F                       1   1      1    0      0\n",
       "Gender_M                       0   0      0    1      1\n",
       "State_Arizona                  0   1      0    0      0\n",
       "State_California               0   0      0    1      0\n",
       "State_Nevada                   0   0      1    0      0\n",
       "State_Oregon                   0   0      0    0      0\n",
       "State_Washington               1   0      0    0      1"
      ]
     },
     "execution_count": 7,
     "metadata": {},
     "output_type": "execute_result"
    }
   ],
   "source": [
    "## Convert Categorical variables into binary variables in order for the logistic model to utilize them\n",
    "df_categoric= pd.get_dummies(df_log[categoric])\n",
    "df_numeric= df_log[numeric]\n",
    "\n",
    "df_processed= df_numeric.join(df_categoric)\n",
    "df_processed.transpose().iloc[:,0:5]"
   ]
  },
  {
   "cell_type": "markdown",
   "metadata": {},
   "source": [
    "# 2. Logistic Prediction Model"
   ]
  },
  {
   "cell_type": "code",
   "execution_count": 8,
   "metadata": {},
   "outputs": [],
   "source": [
    "from statsmodels.discrete.discrete_model import Logit\n",
    "from scipy.special import logit"
   ]
  },
  {
   "cell_type": "code",
   "execution_count": 13,
   "metadata": {},
   "outputs": [
    {
     "name": "stdout",
     "output_type": "stream",
     "text": [
      "Warning: Maximum number of iterations has been exceeded.\n",
      "         Current function value: 0.363843\n",
      "         Iterations: 100\n"
     ]
    },
    {
     "name": "stderr",
     "output_type": "stream",
     "text": [
      "C:\\Users\\zain.syed\\Anaconda3\\lib\\site-packages\\statsmodels\\base\\model.py:568: ConvergenceWarning: Maximum Likelihood optimization failed to converge. Check mle_retvals\n",
      "  \"Check mle_retvals\", ConvergenceWarning)\n"
     ]
    }
   ],
   "source": [
    "X= list(df_processed)\n",
    "Y= 'Binary Response'\n",
    "m= Logit(df[Y],df_processed[X])\n",
    "model= m.fit(maxiter=100)\n",
    "\n",
    "\n"
   ]
  },
  {
   "cell_type": "code",
   "execution_count": 16,
   "metadata": {},
   "outputs": [
    {
     "name": "stdout",
     "output_type": "stream",
     "text": [
      "                                      Results: Logit\n",
      "===========================================================================================\n",
      "Model:                       Logit                    Pseudo R-squared:         0.114      \n",
      "Dependent Variable:          Binary Response          AIC:                      6674.6907  \n",
      "Date:                        2020-03-28 19:17         BIC:                      6774.3673  \n",
      "No. Observations:            9134                     Log-Likelihood:           -3323.3    \n",
      "Df Model:                    13                       LL-Null:                  -3751.6    \n",
      "Df Residuals:                9120                     LLR p-value:              1.0460e-174\n",
      "Converged:                   0.0000                   Scale:                    1.0000     \n",
      "No. Iterations:              100.0000                                                      \n",
      "-------------------------------------------------------------------------------------------\n",
      "                           Coef.     Std.Err.      z    P>|z|      [0.025         0.975]   \n",
      "-------------------------------------------------------------------------------------------\n",
      "Income                      0.0000       0.0000  1.0180 0.3087        -0.0000        0.0000\n",
      "Monthly Premium Auto        0.0009       0.0009  1.0344 0.3010        -0.0008        0.0027\n",
      "Renew Offer Type_Offer1     5.3373 2798943.4914  0.0000 1.0000  -5485823.1006  5485833.7752\n",
      "Renew Offer Type_Offer2     5.8946 2948723.7140  0.0000 1.0000  -5779386.3851  5779398.1743\n",
      "Renew Offer Type_Offer3     3.1988 2678638.5572  0.0000 1.0000  -5250031.9010  5250038.2985\n",
      "Renew Offer Type_Offer4   -22.1147 2805443.0374 -0.0000 1.0000  -5498589.4288  5498545.1993\n",
      "Sales Channel_Agent        -1.4507 5542929.1312 -0.0000 1.0000 -10863942.9167 10863940.0152\n",
      "Sales Channel_Branch       -2.0741 6643996.2646 -0.0000 1.0000 -13021995.4661 13021991.3179\n",
      "Sales Channel_Call Center  -2.1388 6282335.8173 -0.0000 1.0000 -12313154.0794 12313149.8019\n",
      "Sales Channel_Web          -2.0205 6676090.0925 -0.0000 1.0000 -13084898.1593 13084894.1184\n",
      "Gender_F                   -3.8709 6371247.2306 -0.0000 1.0000 -12487418.9794 12487411.2376\n",
      "Gender_M                   -3.8132 7005802.8488 -0.0000 1.0000 -13731125.0797 13731117.4533\n",
      "State_Arizona              -1.5231 1102941.1306 -0.0000 1.0000  -2161726.4162  2161723.3700\n",
      "State_California           -1.5051 1102941.1306 -0.0000 1.0000  -2161726.3982  2161723.3880\n",
      "State_Nevada               -1.5447 1102941.1306 -0.0000 1.0000  -2161726.4378  2161723.3483\n",
      "State_Oregon               -1.5148 1102941.1306 -0.0000 1.0000  -2161726.4079  2161723.3782\n",
      "State_Washington           -1.5963 1102941.1306 -0.0000 1.0000  -2161726.4894  2161723.2968\n",
      "===========================================================================================\n",
      "\n"
     ]
    }
   ],
   "source": [
    "print(model.summary2())"
   ]
  },
  {
   "cell_type": "markdown",
   "metadata": {},
   "source": [
    "**Conclusion:**  \n",
    "Based on the model summary,\n",
    "The following can be concluded:  \n",
    "1. The variables ['Income'] and ['Monthly Premium Auto'] have absolutely no effect on the probability of a response from a marketing campaign.  \n",
    "\n",
    "\n",
    "2. ['Renew Offer Type_Offer2'] has the strongest positive correlation with a response and \n",
    "   ['Renew Offer Type_Offer4'] has the strongest negative correlation with a response.\n",
    "\n",
    "\n",
    "3. ['Renew Offer Type'] in general has the strongest correlation with a response."
   ]
  },
  {
   "cell_type": "markdown",
   "metadata": {},
   "source": [
    "Derive the binary estimates $\\hat{y}$ of the response $y$.  \n",
    "  A decision boundary of **0.2** has been used, i.e A threshold value above which the value is classified as 1 and below it it classified as 0.   \n",
    "\n",
    "**To summarize**:  \n",
    "p >= 0.2, $\\hat{y}$ = 1  \n",
    "p <  0.2,   $\\hat{y}$ = 0"
   ]
  },
  {
   "cell_type": "code",
   "execution_count": 174,
   "metadata": {},
   "outputs": [],
   "source": [
    "y_hat_prob= model.predict(df_processed[X])\n",
    "y_hat=(y_hat_prob >= 0.2) * 1\n",
    "\n",
    "Y= 'Binary Response'\n",
    "y= df[Y]"
   ]
  },
  {
   "cell_type": "markdown",
   "metadata": {},
   "source": [
    "Using a **Confusion Matrix**, we Compare and contrast our estimates $\\hat{y}$ with the actual response $y$"
   ]
  },
  {
   "cell_type": "code",
   "execution_count": 175,
   "metadata": {},
   "outputs": [
    {
     "data": {
      "text/html": [
       "<div>\n",
       "<style scoped>\n",
       "    .dataframe tbody tr th:only-of-type {\n",
       "        vertical-align: middle;\n",
       "    }\n",
       "\n",
       "    .dataframe tbody tr th {\n",
       "        vertical-align: top;\n",
       "    }\n",
       "\n",
       "    .dataframe thead th {\n",
       "        text-align: right;\n",
       "    }\n",
       "</style>\n",
       "<table border=\"1\" class=\"dataframe\">\n",
       "  <thead>\n",
       "    <tr style=\"text-align: right;\">\n",
       "      <th>Binary Response</th>\n",
       "      <th>0</th>\n",
       "      <th>1</th>\n",
       "    </tr>\n",
       "    <tr>\n",
       "      <th>row_0</th>\n",
       "      <th></th>\n",
       "      <th></th>\n",
       "    </tr>\n",
       "  </thead>\n",
       "  <tbody>\n",
       "    <tr>\n",
       "      <th>0</th>\n",
       "      <td>5733</td>\n",
       "      <td>636</td>\n",
       "    </tr>\n",
       "    <tr>\n",
       "      <th>1</th>\n",
       "      <td>2093</td>\n",
       "      <td>672</td>\n",
       "    </tr>\n",
       "  </tbody>\n",
       "</table>\n",
       "</div>"
      ],
      "text/plain": [
       "Binary Response     0    1\n",
       "row_0                     \n",
       "0                5733  636\n",
       "1                2093  672"
      ]
     },
     "execution_count": 175,
     "metadata": {},
     "output_type": "execute_result"
    }
   ],
   "source": [
    "confusion=pd.crosstab(y_hat,y)\n",
    "confusion"
   ]
  },
  {
   "cell_type": "markdown",
   "metadata": {},
   "source": [
    "**Conclusion:**  \n",
    "From this we can see **5733** marketing responses that were correctly classified as no response.  \n",
    "**672** cases that were correctly classified as having a response.\n",
    "\n",
    "The remaining **636 + 2093** estimates were incorrect."
   ]
  },
  {
   "cell_type": "code",
   "execution_count": 146,
   "metadata": {},
   "outputs": [
    {
     "data": {
      "text/plain": [
       "0.7012261878694985"
      ]
     },
     "execution_count": 146,
     "metadata": {},
     "output_type": "execute_result"
    }
   ],
   "source": [
    "def accuracy(predicted,actual):\n",
    "    \n",
    "    diff= predicted - actual\n",
    "    total = len(diff)\n",
    "    incorrect= np.count_nonzero(diff)\n",
    "    \n",
    "    result= (total - incorrect) / total\n",
    "    \n",
    "    return result\n",
    "\n",
    "\n",
    "accuracy(y,y_hat)"
   ]
  },
  {
   "cell_type": "markdown",
   "metadata": {},
   "source": [
    "Currently, we have an accuracy of 70% with a decision boundary of 0.2.  \n",
    "Let's assume we want to optimize our prediction of Positive response, i.e maximize **true positives**.\n"
   ]
  },
  {
   "cell_type": "code",
   "execution_count": 184,
   "metadata": {},
   "outputs": [
    {
     "data": {
      "image/png": "[encoded data removed]",
      "text/plain": [
       "<Figure size 720x432 with 1 Axes>"
      ]
     },
     "metadata": {
      "needs_background": "light"
     },
     "output_type": "display_data"
    }
   ],
   "source": [
    "def true_pos(cm):\n",
    "    num= cm.iloc[1,1]\n",
    "    denom = np.sum(np.sum(cm))\n",
    "    out= num/denom\n",
    "    \n",
    "    return out\n",
    "\n",
    "decision_boundaries= np.arange(0,0.4,0.01)\n",
    "accuracies=[]\n",
    "db=[]\n",
    "for i in range(len(decision_boundaries)):\n",
    "    try:\n",
    "        p= decision_boundaries[i]\n",
    "        y_hat=(y_hat_prob >= p) * 1\n",
    "        cm= pd.crosstab(y_hat,y)\n",
    "        \n",
    "        accuracies.append(true_pos(cm))\n",
    "        db.append(p)\n",
    "        \n",
    "    \n",
    "    except:\n",
    "        pass\n",
    "\n",
    "accuracies_2=[]\n",
    "for i in range(len(decision_boundaries)):\n",
    "    p = decision_boundaries[i]\n",
    "    y_hat= (y_hat_prob >= p) *1\n",
    "    accuracies_2.append(accuracy(y_hat,y))\n",
    "    \n",
    "plt.figure(figsize=(10,6))\n",
    "\n",
    "plt.plot(decision_boundaries,accuracies_2)\n",
    "plt.plot(db,accuracies)\n",
    "plt.xlabel('Boundary Threshold',fontsize=12)\n",
    "plt.ylabel('Model Accuracy in %',fontsize=12)\n",
    "plt.axvline(0.23, color='red')\n",
    "plt.legend(('Overall Model accuracy','True Positive accuracy','Optimum Point'),fontsize=12)\n",
    "plt.show()\n",
    "    "
   ]
  },
  {
   "cell_type": "markdown",
   "metadata": {},
   "source": [
    "**Conclusion:**  \n",
    "This graph visualizes an interesting tradeoff.   \n",
    "As we increase the boundary threshold, we increase the overall model accuracy at the expense of True positive accuracy. \n",
    "  \n",
    "A boundary threshold of 0.23 maximises overall model accuracy while keeping a reasonable true positive accuracy.  \n",
    "\n",
    "Although no ideal optimum points exist, we can use this as a guideline to fine tune our desired outcome."
   ]
  },
  {
   "cell_type": "markdown",
   "metadata": {},
   "source": [
    "# 3. Model Improvement"
   ]
  },
  {
   "cell_type": "markdown",
   "metadata": {},
   "source": [
    "Based on the model summary, we previously saw that **['Renew Offer Type']** had the biggest variable coefficients.\n",
    "Let's try to predict **['Response']** using only **['Renew Offer Type']**."
   ]
  },
  {
   "cell_type": "code",
   "execution_count": 226,
   "metadata": {},
   "outputs": [
    {
     "name": "stdout",
     "output_type": "stream",
     "text": [
      "Warning: Maximum number of iterations has been exceeded.\n",
      "         Current function value: 0.369597\n",
      "         Iterations: 100\n"
     ]
    },
    {
     "name": "stderr",
     "output_type": "stream",
     "text": [
      "C:\\Users\\zain.syed\\Anaconda3\\lib\\site-packages\\statsmodels\\base\\model.py:568: ConvergenceWarning: Maximum Likelihood optimization failed to converge. Check mle_retvals\n",
      "  \"Check mle_retvals\", ConvergenceWarning)\n"
     ]
    }
   ],
   "source": [
    "Y= 'Binary Response'\n",
    "X= 'Renew Offer Type'\n",
    "y= df[Y]\n",
    "x= pd.get_dummies(df[X])\n",
    "\n",
    "m= Logit(y,x)\n",
    "model= m.fit(maxiter=100)\n"
   ]
  },
  {
   "cell_type": "code",
   "execution_count": 227,
   "metadata": {},
   "outputs": [
    {
     "data": {
      "text/html": [
       "<table class=\"simpletable\">\n",
       "<tr>\n",
       "        <td>Model:</td>              <td>Logit</td>      <td>Pseudo R-squared:</td>    <td>0.100</td>   \n",
       "</tr>\n",
       "<tr>\n",
       "  <td>Dependent Variable:</td>  <td>Binary Response</td>       <td>AIC:</td>         <td>6759.7911</td> \n",
       "</tr>\n",
       "<tr>\n",
       "         <td>Date:</td>        <td>2020-03-29 18:46</td>       <td>BIC:</td>         <td>6788.2701</td> \n",
       "</tr>\n",
       "<tr>\n",
       "   <td>No. Observations:</td>        <td>9134</td>        <td>Log-Likelihood:</td>    <td>-3375.9</td>  \n",
       "</tr>\n",
       "<tr>\n",
       "       <td>Df Model:</td>              <td>3</td>            <td>LL-Null:</td>        <td>-3751.6</td>  \n",
       "</tr>\n",
       "<tr>\n",
       "     <td>Df Residuals:</td>          <td>9130</td>         <td>LLR p-value:</td>    <td>1.4500e-162</td>\n",
       "</tr>\n",
       "<tr>\n",
       "      <td>Converged:</td>           <td>0.0000</td>           <td>Scale:</td>         <td>1.0000</td>   \n",
       "</tr>\n",
       "<tr>\n",
       "    <td>No. Iterations:</td>       <td>100.0000</td>             <td></td>               <td></td>      \n",
       "</tr>\n",
       "</table>\n",
       "<table class=\"simpletable\">\n",
       "<tr>\n",
       "     <td></td>      <th>Coef.</th>  <th>Std.Err.</th>      <th>z</th>     <th>P>|z|</th>   <th>[0.025</th>      <th>0.975]</th>  \n",
       "</tr>\n",
       "<tr>\n",
       "  <th>Offer1</th>  <td>-1.6708</td>  <td>0.0447</td>   <td>-37.3591</td> <td>0.0000</td>   <td>-1.7585</td>     <td>-1.5832</td> \n",
       "</tr>\n",
       "<tr>\n",
       "  <th>Offer2</th>  <td>-1.1872</td>  <td>0.0437</td>   <td>-27.1782</td> <td>0.0000</td>   <td>-1.2728</td>     <td>-1.1016</td> \n",
       "</tr>\n",
       "<tr>\n",
       "  <th>Offer3</th>  <td>-3.8445</td>  <td>0.1845</td>   <td>-20.8352</td> <td>0.0000</td>   <td>-4.2061</td>     <td>-3.4828</td> \n",
       "</tr>\n",
       "<tr>\n",
       "  <th>Offer4</th> <td>-24.1804</td> <td>5566.3110</td>  <td>-0.0043</td> <td>0.9965</td> <td>-10933.9496</td> <td>10885.5887</td>\n",
       "</tr>\n",
       "</table>"
      ],
      "text/plain": [
       "<class 'statsmodels.iolib.summary2.Summary'>\n",
       "\"\"\"\n",
       "                          Results: Logit\n",
       "==================================================================\n",
       "Model:              Logit            Pseudo R-squared: 0.100      \n",
       "Dependent Variable: Binary Response  AIC:              6759.7911  \n",
       "Date:               2020-03-29 18:46 BIC:              6788.2701  \n",
       "No. Observations:   9134             Log-Likelihood:   -3375.9    \n",
       "Df Model:           3                LL-Null:          -3751.6    \n",
       "Df Residuals:       9130             LLR p-value:      1.4500e-162\n",
       "Converged:          0.0000           Scale:            1.0000     \n",
       "No. Iterations:     100.0000                                      \n",
       "------------------------------------------------------------------\n",
       "          Coef.    Std.Err.    z     P>|z|     [0.025     0.975]  \n",
       "------------------------------------------------------------------\n",
       "Offer1    -1.6708    0.0447 -37.3591 0.0000     -1.7585    -1.5832\n",
       "Offer2    -1.1872    0.0437 -27.1782 0.0000     -1.2728    -1.1016\n",
       "Offer3    -3.8445    0.1845 -20.8352 0.0000     -4.2061    -3.4828\n",
       "Offer4   -24.1804 5566.3110  -0.0043 0.9965 -10933.9496 10885.5887\n",
       "==================================================================\n",
       "\n",
       "\"\"\""
      ]
     },
     "execution_count": 227,
     "metadata": {},
     "output_type": "execute_result"
    }
   ],
   "source": [
    "model.summary2()"
   ]
  },
  {
   "cell_type": "code",
   "execution_count": 228,
   "metadata": {},
   "outputs": [
    {
     "data": {
      "text/html": [
       "<div>\n",
       "<style scoped>\n",
       "    .dataframe tbody tr th:only-of-type {\n",
       "        vertical-align: middle;\n",
       "    }\n",
       "\n",
       "    .dataframe tbody tr th {\n",
       "        vertical-align: top;\n",
       "    }\n",
       "\n",
       "    .dataframe thead th {\n",
       "        text-align: right;\n",
       "    }\n",
       "</style>\n",
       "<table border=\"1\" class=\"dataframe\">\n",
       "  <thead>\n",
       "    <tr style=\"text-align: right;\">\n",
       "      <th>Binary Response</th>\n",
       "      <th>0</th>\n",
       "      <th>1</th>\n",
       "    </tr>\n",
       "    <tr>\n",
       "      <th>row_0</th>\n",
       "      <th></th>\n",
       "      <th></th>\n",
       "    </tr>\n",
       "  </thead>\n",
       "  <tbody>\n",
       "    <tr>\n",
       "      <th>0</th>\n",
       "      <td>5584</td>\n",
       "      <td>624</td>\n",
       "    </tr>\n",
       "    <tr>\n",
       "      <th>1</th>\n",
       "      <td>2242</td>\n",
       "      <td>684</td>\n",
       "    </tr>\n",
       "  </tbody>\n",
       "</table>\n",
       "</div>"
      ],
      "text/plain": [
       "Binary Response     0    1\n",
       "row_0                     \n",
       "0                5584  624\n",
       "1                2242  684"
      ]
     },
     "execution_count": 228,
     "metadata": {},
     "output_type": "execute_result"
    }
   ],
   "source": [
    "out=list(x)\n",
    "y_hat_prob= model.predict(x[out])\n",
    "y_hat=(y_hat_prob >= 0.2) * 1\n",
    "\n",
    "confusion=pd.crosstab(y_hat,y)\n",
    "confusion"
   ]
  },
  {
   "cell_type": "code",
   "execution_count": 229,
   "metadata": {},
   "outputs": [
    {
     "data": {
      "image/png": "[encoded data removed]",
      "text/plain": [
       "<Figure size 720x432 with 1 Axes>"
      ]
     },
     "metadata": {
      "needs_background": "light"
     },
     "output_type": "display_data"
    }
   ],
   "source": [
    "decision_boundaries= np.arange(0,0.4,0.01)\n",
    "accuracies=[]\n",
    "db=[]\n",
    "for i in range(len(decision_boundaries)):\n",
    "    try:\n",
    "        p= decision_boundaries[i]\n",
    "        y_hat=(y_hat_prob >= p) * 1\n",
    "        cm= pd.crosstab(y_hat,y)\n",
    "        \n",
    "        accuracies.append(true_pos(cm))\n",
    "        db.append(p)\n",
    "        \n",
    "    \n",
    "    except:\n",
    "        pass\n",
    "\n",
    "accuracies_2=[]\n",
    "for i in range(len(decision_boundaries)):\n",
    "    p = decision_boundaries[i]\n",
    "    y_hat= (y_hat_prob >= p) *1\n",
    "    accuracies_2.append(accuracy(y_hat,y))\n",
    "    \n",
    "plt.figure(figsize=(10,6))\n",
    "\n",
    "plt.plot(decision_boundaries,accuracies_2)\n",
    "plt.plot(db,accuracies)\n",
    "plt.xlabel('Boundary Threshold',fontsize=12)\n",
    "plt.ylabel('Model Accuracy in %',fontsize=12)\n",
    "#plt.axvline(0.23, color='red')\n",
    "plt.legend(('Overall Model accuracy','True Positive accuracy','Optimum Point'),fontsize=12)\n",
    "plt.show()\n",
    "    "
   ]
  }
 ],
 "metadata": {
  "kernelspec": {
   "display_name": "Python 3",
   "language": "python",
   "name": "python3"
  },
  "language_info": {
   "codemirror_mode": {
    "name": "ipython",
    "version": 3
   },
   "file_extension": ".py",
   "mimetype": "text/x-python",
   "name": "python",
   "nbconvert_exporter": "python",
   "pygments_lexer": "ipython3",
   "version": "3.7.6"
  }
 },
 "nbformat": 4,
 "nbformat_minor": 2
}
