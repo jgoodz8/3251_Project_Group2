{
 "cells": [
  {
   "cell_type": "markdown",
   "metadata": {},
   "source": [
    "### Insurance Data:  Logistic Regression Model"
   ]
  },
  {
   "cell_type": "markdown",
   "metadata": {},
   "source": [
    "## 0: Setup"
   ]
  },
  {
   "cell_type": "markdown",
   "metadata": {},
   "source": [
    "#### 0.0: Library Setup"
   ]
  },
  {
   "cell_type": "code",
   "execution_count": 9,
   "metadata": {
    "scrolled": false
   },
   "outputs": [],
   "source": [
    "import pandas as pd\n",
    "import numpy as np\n",
    "from sklearn import preprocessing\n",
    "from sklearn.model_selection import train_test_split \n",
    "from sklearn.linear_model import LogisticRegression\n",
    "from sklearn import metrics\n",
    "import matplotlib.pyplot as plt\n",
    "import seaborn as sns"
   ]
  },
  {
   "cell_type": "markdown",
   "metadata": {},
   "source": [
    "#### 0.1 Read auto insurance data and rename columns"
   ]
  },
  {
   "cell_type": "code",
   "execution_count": 10,
   "metadata": {},
   "outputs": [
    {
     "data": {
      "text/html": [
       "<div>\n",
       "<style scoped>\n",
       "    .dataframe tbody tr th:only-of-type {\n",
       "        vertical-align: middle;\n",
       "    }\n",
       "\n",
       "    .dataframe tbody tr th {\n",
       "        vertical-align: top;\n",
       "    }\n",
       "\n",
       "    .dataframe thead th {\n",
       "        text-align: right;\n",
       "    }\n",
       "</style>\n",
       "<table border=\"1\" class=\"dataframe\">\n",
       "  <thead>\n",
       "    <tr style=\"text-align: right;\">\n",
       "      <th></th>\n",
       "      <th>customer</th>\n",
       "      <th>state</th>\n",
       "      <th>clv</th>\n",
       "      <th>response</th>\n",
       "      <th>coverage_type</th>\n",
       "      <th>education</th>\n",
       "      <th>effective_to_date</th>\n",
       "      <th>employment_status</th>\n",
       "      <th>gender</th>\n",
       "      <th>income</th>\n",
       "      <th>location_code</th>\n",
       "      <th>marital_status</th>\n",
       "      <th>monthly_premium</th>\n",
       "      <th>months_since_last_claim</th>\n",
       "      <th>months_since_policy_start</th>\n",
       "      <th>open_complaints</th>\n",
       "      <th>num_policies</th>\n",
       "      <th>policy_type</th>\n",
       "      <th>policy</th>\n",
       "      <th>renew_offer_type</th>\n",
       "      <th>sales_channel</th>\n",
       "      <th>total_claim_amount</th>\n",
       "      <th>vehicle_class</th>\n",
       "      <th>vehicle_size</th>\n",
       "    </tr>\n",
       "  </thead>\n",
       "  <tbody>\n",
       "    <tr>\n",
       "      <th>0</th>\n",
       "      <td>BU79786</td>\n",
       "      <td>Washington</td>\n",
       "      <td>2763.519279</td>\n",
       "      <td>No</td>\n",
       "      <td>Basic</td>\n",
       "      <td>Bachelor</td>\n",
       "      <td>2/24/11</td>\n",
       "      <td>Employed</td>\n",
       "      <td>F</td>\n",
       "      <td>56274</td>\n",
       "      <td>Suburban</td>\n",
       "      <td>Married</td>\n",
       "      <td>69</td>\n",
       "      <td>32</td>\n",
       "      <td>5</td>\n",
       "      <td>0</td>\n",
       "      <td>1</td>\n",
       "      <td>Corporate Auto</td>\n",
       "      <td>Corporate L3</td>\n",
       "      <td>Offer1</td>\n",
       "      <td>Agent</td>\n",
       "      <td>384.811147</td>\n",
       "      <td>Two-Door Car</td>\n",
       "      <td>Medsize</td>\n",
       "    </tr>\n",
       "    <tr>\n",
       "      <th>1</th>\n",
       "      <td>QZ44356</td>\n",
       "      <td>Arizona</td>\n",
       "      <td>6979.535903</td>\n",
       "      <td>No</td>\n",
       "      <td>Extended</td>\n",
       "      <td>Bachelor</td>\n",
       "      <td>1/31/11</td>\n",
       "      <td>Unemployed</td>\n",
       "      <td>F</td>\n",
       "      <td>0</td>\n",
       "      <td>Suburban</td>\n",
       "      <td>Single</td>\n",
       "      <td>94</td>\n",
       "      <td>13</td>\n",
       "      <td>42</td>\n",
       "      <td>0</td>\n",
       "      <td>8</td>\n",
       "      <td>Personal Auto</td>\n",
       "      <td>Personal L3</td>\n",
       "      <td>Offer3</td>\n",
       "      <td>Agent</td>\n",
       "      <td>1131.464935</td>\n",
       "      <td>Four-Door Car</td>\n",
       "      <td>Medsize</td>\n",
       "    </tr>\n",
       "    <tr>\n",
       "      <th>2</th>\n",
       "      <td>AI49188</td>\n",
       "      <td>Nevada</td>\n",
       "      <td>12887.431650</td>\n",
       "      <td>No</td>\n",
       "      <td>Premium</td>\n",
       "      <td>Bachelor</td>\n",
       "      <td>2/19/11</td>\n",
       "      <td>Employed</td>\n",
       "      <td>F</td>\n",
       "      <td>48767</td>\n",
       "      <td>Suburban</td>\n",
       "      <td>Married</td>\n",
       "      <td>108</td>\n",
       "      <td>18</td>\n",
       "      <td>38</td>\n",
       "      <td>0</td>\n",
       "      <td>2</td>\n",
       "      <td>Personal Auto</td>\n",
       "      <td>Personal L3</td>\n",
       "      <td>Offer1</td>\n",
       "      <td>Agent</td>\n",
       "      <td>566.472247</td>\n",
       "      <td>Two-Door Car</td>\n",
       "      <td>Medsize</td>\n",
       "    </tr>\n",
       "    <tr>\n",
       "      <th>3</th>\n",
       "      <td>WW63253</td>\n",
       "      <td>California</td>\n",
       "      <td>7645.861827</td>\n",
       "      <td>No</td>\n",
       "      <td>Basic</td>\n",
       "      <td>Bachelor</td>\n",
       "      <td>1/20/11</td>\n",
       "      <td>Unemployed</td>\n",
       "      <td>M</td>\n",
       "      <td>0</td>\n",
       "      <td>Suburban</td>\n",
       "      <td>Married</td>\n",
       "      <td>106</td>\n",
       "      <td>18</td>\n",
       "      <td>65</td>\n",
       "      <td>0</td>\n",
       "      <td>7</td>\n",
       "      <td>Corporate Auto</td>\n",
       "      <td>Corporate L2</td>\n",
       "      <td>Offer1</td>\n",
       "      <td>Call Center</td>\n",
       "      <td>529.881344</td>\n",
       "      <td>SUV</td>\n",
       "      <td>Medsize</td>\n",
       "    </tr>\n",
       "    <tr>\n",
       "      <th>4</th>\n",
       "      <td>HB64268</td>\n",
       "      <td>Washington</td>\n",
       "      <td>2813.692575</td>\n",
       "      <td>No</td>\n",
       "      <td>Basic</td>\n",
       "      <td>Bachelor</td>\n",
       "      <td>3/2/2011</td>\n",
       "      <td>Employed</td>\n",
       "      <td>M</td>\n",
       "      <td>43836</td>\n",
       "      <td>Rural</td>\n",
       "      <td>Single</td>\n",
       "      <td>73</td>\n",
       "      <td>12</td>\n",
       "      <td>44</td>\n",
       "      <td>0</td>\n",
       "      <td>1</td>\n",
       "      <td>Personal Auto</td>\n",
       "      <td>Personal L1</td>\n",
       "      <td>Offer1</td>\n",
       "      <td>Agent</td>\n",
       "      <td>138.130879</td>\n",
       "      <td>Four-Door Car</td>\n",
       "      <td>Medsize</td>\n",
       "    </tr>\n",
       "  </tbody>\n",
       "</table>\n",
       "</div>"
      ],
      "text/plain": [
       "  customer       state           clv response coverage_type education  \\\n",
       "0  BU79786  Washington   2763.519279       No         Basic  Bachelor   \n",
       "1  QZ44356     Arizona   6979.535903       No      Extended  Bachelor   \n",
       "2  AI49188      Nevada  12887.431650       No       Premium  Bachelor   \n",
       "3  WW63253  California   7645.861827       No         Basic  Bachelor   \n",
       "4  HB64268  Washington   2813.692575       No         Basic  Bachelor   \n",
       "\n",
       "  effective_to_date employment_status gender  income location_code  \\\n",
       "0           2/24/11          Employed      F   56274      Suburban   \n",
       "1           1/31/11        Unemployed      F       0      Suburban   \n",
       "2           2/19/11          Employed      F   48767      Suburban   \n",
       "3           1/20/11        Unemployed      M       0      Suburban   \n",
       "4          3/2/2011          Employed      M   43836         Rural   \n",
       "\n",
       "  marital_status  monthly_premium  months_since_last_claim  \\\n",
       "0        Married               69                       32   \n",
       "1         Single               94                       13   \n",
       "2        Married              108                       18   \n",
       "3        Married              106                       18   \n",
       "4         Single               73                       12   \n",
       "\n",
       "   months_since_policy_start  open_complaints  num_policies     policy_type  \\\n",
       "0                          5                0             1  Corporate Auto   \n",
       "1                         42                0             8   Personal Auto   \n",
       "2                         38                0             2   Personal Auto   \n",
       "3                         65                0             7  Corporate Auto   \n",
       "4                         44                0             1   Personal Auto   \n",
       "\n",
       "         policy renew_offer_type sales_channel  total_claim_amount  \\\n",
       "0  Corporate L3           Offer1         Agent          384.811147   \n",
       "1   Personal L3           Offer3         Agent         1131.464935   \n",
       "2   Personal L3           Offer1         Agent          566.472247   \n",
       "3  Corporate L2           Offer1   Call Center          529.881344   \n",
       "4   Personal L1           Offer1         Agent          138.130879   \n",
       "\n",
       "   vehicle_class vehicle_size  \n",
       "0   Two-Door Car      Medsize  \n",
       "1  Four-Door Car      Medsize  \n",
       "2   Two-Door Car      Medsize  \n",
       "3            SUV      Medsize  \n",
       "4  Four-Door Car      Medsize  "
      ]
     },
     "execution_count": 10,
     "metadata": {},
     "output_type": "execute_result"
    }
   ],
   "source": [
    "data = pd.read_csv('https://raw.githubusercontent.com/jgoodz8/3251_Project_Group2/master/AutoInsurance.csv')\n",
    "\n",
    "data.columns = ['customer', 'state', 'clv', 'response', 'coverage_type', 'education', 'effective_to_date',\\\n",
    "                'employment_status', 'gender', 'income' , 'location_code', 'marital_status', 'monthly_premium',\\\n",
    "                'months_since_last_claim', 'months_since_policy_start', 'open_complaints', 'num_policies',\\\n",
    "                'policy_type', 'policy', 'renew_offer_type', 'sales_channel', 'total_claim_amount',\\\n",
    "                'vehicle_class', 'vehicle_size']\n",
    "\n",
    "## Allows us to display all the columns in one go\n",
    "pd.options.display.max_columns = None\n",
    "data.head(5)"
   ]
  },
  {
   "cell_type": "markdown",
   "metadata": {},
   "source": [
    "## 1: Define the problem"
   ]
  },
  {
   "cell_type": "markdown",
   "metadata": {},
   "source": [
    "### 1.0 **Goal**:   \n",
    "Using Logistic regression, Predict the response received through the marketing campaign.  \n",
    "- ['Response'] = Yes/No\n",
    "\n",
    "Using the following variables\n",
    "1. ['renew_offer_type']\n",
    "2. ['sales_channel']\n",
    "3. ['gender']\n",
    "4. ['income']\n",
    "5. ['monthly_premium']\n",
    "\n",
    "#### Assumptions:\n",
    "- Variables were picked based on intuition (i.e assuming that Monthly Premiums are more likely to influence renewal as opposed to the gender variable.\n"
   ]
  },
  {
   "cell_type": "markdown",
   "metadata": {},
   "source": [
    "### 1.1 Numeric Variables  \n",
    "A basic histogram which showcase the 'distribution' of what the numeric variables look like"
   ]
  },
  {
   "cell_type": "code",
   "execution_count": 11,
   "metadata": {},
   "outputs": [
    {
     "data": {
      "image/png": "[encoded data removed]",
      "text/plain": [
       "<Figure size 720x432 with 2 Axes>"
      ]
     },
     "metadata": {
      "needs_background": "light"
     },
     "output_type": "display_data"
    }
   ],
   "source": [
    "num_vars= ['monthly_premium','income']\n",
    "data[num_vars].hist(figsize=(10,6))\n",
    "plt.show()"
   ]
  },
  {
   "cell_type": "markdown",
   "metadata": {},
   "source": [
    "### 1.2 Categorical Variables\n",
    "A basic visualization of the distribution and counts of different options in the categorical fields."
   ]
  },
  {
   "cell_type": "code",
   "execution_count": 12,
   "metadata": {},
   "outputs": [
    {
     "data": {
      "image/png": "[encoded data removed]",
      "text/plain": [
       "<Figure size 360x360 with 1 Axes>"
      ]
     },
     "metadata": {
      "needs_background": "light"
     },
     "output_type": "display_data"
    },
    {
     "data": {
      "image/png": "[encoded data removed]",
      "text/plain": [
       "<Figure size 360x360 with 1 Axes>"
      ]
     },
     "metadata": {
      "needs_background": "light"
     },
     "output_type": "display_data"
    },
    {
     "data": {
      "image/png": "[encoded data removed]",
      "text/plain": [
       "<Figure size 360x360 with 1 Axes>"
      ]
     },
     "metadata": {
      "needs_background": "light"
     },
     "output_type": "display_data"
    },
    {
     "data": {
      "image/png": "[encoded data removed]",
      "text/plain": [
       "<Figure size 360x360 with 1 Axes>"
      ]
     },
     "metadata": {
      "needs_background": "light"
     },
     "output_type": "display_data"
    }
   ],
   "source": [
    "cat_vars = ['employment_status', 'gender', 'sales_channel', 'renew_offer_type']\n",
    "\n",
    "sns.catplot('renew_offer_type',kind=\"count\",data=data)\n",
    "sns.catplot('sales_channel',kind=\"count\",data=data)\n",
    "sns.catplot('gender',kind=\"count\",data=data)\n",
    "sns.catplot('employment_status',kind=\"count\",data=data)\n",
    "plt.show()"
   ]
  },
  {
   "cell_type": "markdown",
   "metadata": {},
   "source": [
    "### 1.3 Response Variable\n",
    "A basic visualization of the distribution and counts of the Response variable"
   ]
  },
  {
   "cell_type": "code",
   "execution_count": 13,
   "metadata": {},
   "outputs": [
    {
     "data": {
      "image/png": "[encoded data removed]",
      "text/plain": [
       "<Figure size 360x360 with 1 Axes>"
      ]
     },
     "metadata": {
      "needs_background": "light"
     },
     "output_type": "display_data"
    }
   ],
   "source": [
    "sns.catplot('response',kind=\"count\",data=data)\n",
    "\n",
    "plt.show()"
   ]
  },
  {
   "cell_type": "markdown",
   "metadata": {},
   "source": [
    "#### Concern:\n",
    "We can see that we have a class imbalance.\n",
    "~80% of the response variable is a 'No'.  \n",
    "By 'cheating' we can claim to achieve ~80% accuracy of our model by simply setting all of the responses to 'No'.\n",
    "\n",
    "In order to avoid this bias, We'll use SMOTE **(Synthetic minority oversampling technique)** to oversample the \"Yes\" response in the training data."
   ]
  },
  {
   "cell_type": "markdown",
   "metadata": {},
   "source": [
    "### 2: Transformations"
   ]
  },
  {
   "cell_type": "markdown",
   "metadata": {},
   "source": [
    "#### 2.1 Convert Categorical variables into binary variables in order for the logistic model to utilize them"
   ]
  },
  {
   "cell_type": "code",
   "execution_count": 14,
   "metadata": {},
   "outputs": [],
   "source": [
    "data_cat= pd.get_dummies(data[cat_vars])"
   ]
  },
  {
   "cell_type": "markdown",
   "metadata": {},
   "source": [
    "#### 2.2 Merge with the selected numeric variables to create a combined datamart"
   ]
  },
  {
   "cell_type": "code",
   "execution_count": 15,
   "metadata": {},
   "outputs": [],
   "source": [
    "data_final = data[num_vars].join(data_cat)"
   ]
  },
  {
   "cell_type": "markdown",
   "metadata": {},
   "source": [
    "#### 2.3 Convert the ['response'] = Yes/No variable into a binary [0,1] response variable"
   ]
  },
  {
   "cell_type": "code",
   "execution_count": 16,
   "metadata": {},
   "outputs": [
    {
     "data": {
      "text/html": [
       "<div>\n",
       "<style scoped>\n",
       "    .dataframe tbody tr th:only-of-type {\n",
       "        vertical-align: middle;\n",
       "    }\n",
       "\n",
       "    .dataframe tbody tr th {\n",
       "        vertical-align: top;\n",
       "    }\n",
       "\n",
       "    .dataframe thead th {\n",
       "        text-align: right;\n",
       "    }\n",
       "</style>\n",
       "<table border=\"1\" class=\"dataframe\">\n",
       "  <thead>\n",
       "    <tr style=\"text-align: right;\">\n",
       "      <th></th>\n",
       "      <th>monthly_premium</th>\n",
       "      <th>income</th>\n",
       "      <th>employment_status_Disabled</th>\n",
       "      <th>employment_status_Employed</th>\n",
       "      <th>employment_status_Medical Leave</th>\n",
       "      <th>employment_status_Retired</th>\n",
       "      <th>employment_status_Unemployed</th>\n",
       "      <th>gender_F</th>\n",
       "      <th>gender_M</th>\n",
       "      <th>sales_channel_Agent</th>\n",
       "      <th>sales_channel_Branch</th>\n",
       "      <th>sales_channel_Call Center</th>\n",
       "      <th>sales_channel_Web</th>\n",
       "      <th>renew_offer_type_Offer1</th>\n",
       "      <th>renew_offer_type_Offer2</th>\n",
       "      <th>renew_offer_type_Offer3</th>\n",
       "      <th>renew_offer_type_Offer4</th>\n",
       "      <th>binary_response</th>\n",
       "    </tr>\n",
       "  </thead>\n",
       "  <tbody>\n",
       "    <tr>\n",
       "      <th>0</th>\n",
       "      <td>69</td>\n",
       "      <td>56274</td>\n",
       "      <td>0</td>\n",
       "      <td>1</td>\n",
       "      <td>0</td>\n",
       "      <td>0</td>\n",
       "      <td>0</td>\n",
       "      <td>1</td>\n",
       "      <td>0</td>\n",
       "      <td>1</td>\n",
       "      <td>0</td>\n",
       "      <td>0</td>\n",
       "      <td>0</td>\n",
       "      <td>1</td>\n",
       "      <td>0</td>\n",
       "      <td>0</td>\n",
       "      <td>0</td>\n",
       "      <td>0</td>\n",
       "    </tr>\n",
       "    <tr>\n",
       "      <th>1</th>\n",
       "      <td>94</td>\n",
       "      <td>0</td>\n",
       "      <td>0</td>\n",
       "      <td>0</td>\n",
       "      <td>0</td>\n",
       "      <td>0</td>\n",
       "      <td>1</td>\n",
       "      <td>1</td>\n",
       "      <td>0</td>\n",
       "      <td>1</td>\n",
       "      <td>0</td>\n",
       "      <td>0</td>\n",
       "      <td>0</td>\n",
       "      <td>0</td>\n",
       "      <td>0</td>\n",
       "      <td>1</td>\n",
       "      <td>0</td>\n",
       "      <td>0</td>\n",
       "    </tr>\n",
       "    <tr>\n",
       "      <th>2</th>\n",
       "      <td>108</td>\n",
       "      <td>48767</td>\n",
       "      <td>0</td>\n",
       "      <td>1</td>\n",
       "      <td>0</td>\n",
       "      <td>0</td>\n",
       "      <td>0</td>\n",
       "      <td>1</td>\n",
       "      <td>0</td>\n",
       "      <td>1</td>\n",
       "      <td>0</td>\n",
       "      <td>0</td>\n",
       "      <td>0</td>\n",
       "      <td>1</td>\n",
       "      <td>0</td>\n",
       "      <td>0</td>\n",
       "      <td>0</td>\n",
       "      <td>0</td>\n",
       "    </tr>\n",
       "  </tbody>\n",
       "</table>\n",
       "</div>"
      ],
      "text/plain": [
       "   monthly_premium  income  employment_status_Disabled  \\\n",
       "0               69   56274                           0   \n",
       "1               94       0                           0   \n",
       "2              108   48767                           0   \n",
       "\n",
       "   employment_status_Employed  employment_status_Medical Leave  \\\n",
       "0                           1                                0   \n",
       "1                           0                                0   \n",
       "2                           1                                0   \n",
       "\n",
       "   employment_status_Retired  employment_status_Unemployed  gender_F  \\\n",
       "0                          0                             0         1   \n",
       "1                          0                             1         1   \n",
       "2                          0                             0         1   \n",
       "\n",
       "   gender_M  sales_channel_Agent  sales_channel_Branch  \\\n",
       "0         0                    1                     0   \n",
       "1         0                    1                     0   \n",
       "2         0                    1                     0   \n",
       "\n",
       "   sales_channel_Call Center  sales_channel_Web  renew_offer_type_Offer1  \\\n",
       "0                          0                  0                        1   \n",
       "1                          0                  0                        0   \n",
       "2                          0                  0                        1   \n",
       "\n",
       "   renew_offer_type_Offer2  renew_offer_type_Offer3  renew_offer_type_Offer4  \\\n",
       "0                        0                        0                        0   \n",
       "1                        0                        1                        0   \n",
       "2                        0                        0                        0   \n",
       "\n",
       "   binary_response  \n",
       "0                0  \n",
       "1                0  \n",
       "2                0  "
      ]
     },
     "execution_count": 16,
     "metadata": {},
     "output_type": "execute_result"
    }
   ],
   "source": [
    "data_final['binary_response'] = np.where(data['response']==\"Yes\",1,0)\n",
    "data_final.head(3)"
   ]
  },
  {
   "cell_type": "markdown",
   "metadata": {},
   "source": [
    "### 3: Modelling"
   ]
  },
  {
   "cell_type": "markdown",
   "metadata": {},
   "source": [
    "#### 3.1 For simplification, we use:  \n",
    "X= Predictors  \n",
    "y= Response"
   ]
  },
  {
   "cell_type": "code",
   "execution_count": 17,
   "metadata": {},
   "outputs": [],
   "source": [
    "X = data_final.loc[:, data_final.columns != 'binary_response']\n",
    "y = data_final.loc[:, data_final.columns == 'binary_response']\n"
   ]
  },
  {
   "cell_type": "markdown",
   "metadata": {},
   "source": [
    "#### 3.2 Split into train and test."
   ]
  },
  {
   "cell_type": "code",
   "execution_count": 18,
   "metadata": {},
   "outputs": [],
   "source": [
    "y = np.ravel(y)\n",
    "X_train, X_test, y_train, y_test = train_test_split(X, y, test_size=0.3, random_state=0)"
   ]
  },
  {
   "cell_type": "markdown",
   "metadata": {},
   "source": [
    "#### 3.3 SMOTE \n",
    "As discussed in 1.3, use SMOTE (Synthetic minority oversampling technique) to oversample the \"Yes\" response in the training data"
   ]
  },
  {
   "cell_type": "code",
   "execution_count": 19,
   "metadata": {},
   "outputs": [
    {
     "ename": "AttributeError",
     "evalue": "'numpy.ndarray' object has no attribute 'columns'",
     "output_type": "error",
     "traceback": [
      "\u001b[0;31m---------------------------------------------------------------------------\u001b[0m",
      "\u001b[0;31mAttributeError\u001b[0m                            Traceback (most recent call last)",
      "\u001b[0;32m<ipython-input-19-debaa4ed3bf1>\u001b[0m in \u001b[0;36m<module>\u001b[0;34m\u001b[0m\n\u001b[1;32m      2\u001b[0m \u001b[0mos\u001b[0m \u001b[0;34m=\u001b[0m \u001b[0mSMOTE\u001b[0m\u001b[0;34m(\u001b[0m\u001b[0mrandom_state\u001b[0m\u001b[0;34m=\u001b[0m\u001b[0;36m0\u001b[0m\u001b[0;34m)\u001b[0m\u001b[0;34m\u001b[0m\u001b[0;34m\u001b[0m\u001b[0m\n\u001b[1;32m      3\u001b[0m \u001b[0mos_data_X\u001b[0m\u001b[0;34m,\u001b[0m \u001b[0mos_data_y\u001b[0m \u001b[0;34m=\u001b[0m \u001b[0mos\u001b[0m\u001b[0;34m.\u001b[0m\u001b[0mfit_sample\u001b[0m\u001b[0;34m(\u001b[0m\u001b[0mX_train\u001b[0m\u001b[0;34m,\u001b[0m \u001b[0my_train\u001b[0m\u001b[0;34m)\u001b[0m\u001b[0;34m\u001b[0m\u001b[0;34m\u001b[0m\u001b[0m\n\u001b[0;32m----> 4\u001b[0;31m \u001b[0mos_data_X\u001b[0m \u001b[0;34m=\u001b[0m \u001b[0mpd\u001b[0m\u001b[0;34m.\u001b[0m\u001b[0mDataFrame\u001b[0m\u001b[0;34m(\u001b[0m\u001b[0mdata\u001b[0m\u001b[0;34m=\u001b[0m\u001b[0mos_data_X\u001b[0m\u001b[0;34m,\u001b[0m\u001b[0mcolumns\u001b[0m\u001b[0;34m=\u001b[0m\u001b[0mos_data_X\u001b[0m\u001b[0;34m.\u001b[0m\u001b[0mcolumns\u001b[0m\u001b[0;34m)\u001b[0m\u001b[0;34m\u001b[0m\u001b[0;34m\u001b[0m\u001b[0m\n\u001b[0m\u001b[1;32m      5\u001b[0m \u001b[0mos_data_y\u001b[0m \u001b[0;34m=\u001b[0m \u001b[0mpd\u001b[0m\u001b[0;34m.\u001b[0m\u001b[0mDataFrame\u001b[0m\u001b[0;34m(\u001b[0m\u001b[0mdata\u001b[0m\u001b[0;34m=\u001b[0m\u001b[0mos_data_y\u001b[0m\u001b[0;34m,\u001b[0m\u001b[0mcolumns\u001b[0m\u001b[0;34m=\u001b[0m\u001b[0;34m[\u001b[0m\u001b[0;34m'binary_response'\u001b[0m\u001b[0;34m]\u001b[0m\u001b[0;34m)\u001b[0m\u001b[0;34m\u001b[0m\u001b[0;34m\u001b[0m\u001b[0m\n\u001b[1;32m      6\u001b[0m \u001b[0;34m\u001b[0m\u001b[0m\n",
      "\u001b[0;31mAttributeError\u001b[0m: 'numpy.ndarray' object has no attribute 'columns'"
     ]
    }
   ],
   "source": [
    "from imblearn.over_sampling import SMOTE\n",
    "os = SMOTE(random_state=0)\n",
    "os_data_X, os_data_y = os.fit_sample(X_train, y_train)\n",
    "os_data_X = pd.DataFrame(data=os_data_X,columns=os_data_X.columns)\n",
    "os_data_y = pd.DataFrame(data=os_data_y,columns=['binary_response'])\n",
    "\n",
    "## Check the data\n",
    "print(\"OS data length \",len(os_data_X))\n",
    "print(\"OS 'No' response \", len(os_data_y[os_data_y['binary_response']==0]))\n",
    "print(\"OS 'Yes' response \", len(os_data_y[os_data_y['binary_response']==1]))"
   ]
  },
  {
   "cell_type": "markdown",
   "metadata": {},
   "source": [
    "#### 3.4 Train and fit the model"
   ]
  },
  {
   "cell_type": "code",
   "execution_count": 20,
   "metadata": {},
   "outputs": [],
   "source": [
    "from statsmodels.discrete.discrete_model import Logit\n",
    "from scipy.special import logit"
   ]
  },
  {
   "cell_type": "code",
   "execution_count": 21,
   "metadata": {
    "scrolled": true
   },
   "outputs": [
    {
     "name": "stdout",
     "output_type": "stream",
     "text": [
      "Warning: Maximum number of iterations has been exceeded.\n",
      "         Current function value: 0.540421\n",
      "         Iterations: 100\n",
      "                          Results: Logit\n",
      "===================================================================\n",
      "Model:                Logit            Pseudo R-squared: 0.220     \n",
      "Dependent Variable:   y                AIC:              11923.7524\n",
      "Date:                 2020-03-31 13:59 BIC:              12026.0391\n",
      "No. Observations:     11006            Log-Likelihood:   -5947.9   \n",
      "Df Model:             13               LL-Null:          -7628.8   \n",
      "Df Residuals:         10992            LLR p-value:      0.0000    \n",
      "Converged:            0.0000           Scale:            1.0000    \n",
      "No. Iterations:       100.0000                                     \n",
      "-------------------------------------------------------------------\n",
      "     Coef.     Std.Err.      z    P>|z|      [0.025       0.975]   \n",
      "-------------------------------------------------------------------\n",
      "x1    0.0011       0.0006  1.7026 0.0886       -0.0002       0.0024\n",
      "x2    0.0000       0.0000  3.5085 0.0005        0.0000       0.0000\n",
      "x3   -1.2509          nan     nan    nan           nan          nan\n",
      "x4   -1.9044          nan     nan    nan           nan          nan\n",
      "x5   -1.4485          nan     nan    nan           nan          nan\n",
      "x6    1.5118          nan     nan    nan           nan          nan\n",
      "x7   -2.0580          nan     nan    nan           nan          nan\n",
      "x8   -2.5940          nan     nan    nan           nan          nan\n",
      "x9   -2.5560          nan     nan    nan           nan          nan\n",
      "x10  -0.9048 1675084.5451 -0.0000 1.0000 -3283106.2843 3283104.4747\n",
      "x11  -1.4827 1809298.0975 -0.0000 1.0000 -3546160.5910 3546157.6257\n",
      "x12  -1.4780 1809298.0975 -0.0000 1.0000 -3546160.5863 3546157.6304\n",
      "x13  -1.2846 2051551.2058 -0.0000 1.0000 -4020967.7604 4020965.1912\n",
      "x14   5.1917          nan     nan    nan           nan          nan\n",
      "x15   5.9004          nan     nan    nan           nan          nan\n",
      "x16   3.2017          nan     nan    nan           nan          nan\n",
      "x17 -19.4438          nan     nan    nan           nan          nan\n",
      "===================================================================\n",
      "\n"
     ]
    },
    {
     "name": "stderr",
     "output_type": "stream",
     "text": [
      "/Users/moattia/anaconda3/lib/python3.7/site-packages/statsmodels/base/model.py:512: ConvergenceWarning: Maximum Likelihood optimization failed to converge. Check mle_retvals\n",
      "  \"Check mle_retvals\", ConvergenceWarning)\n",
      "/Users/moattia/anaconda3/lib/python3.7/site-packages/statsmodels/base/model.py:1286: RuntimeWarning: invalid value encountered in sqrt\n",
      "  bse_ = np.sqrt(np.diag(self.cov_params()))\n",
      "/Users/moattia/anaconda3/lib/python3.7/site-packages/scipy/stats/_distn_infrastructure.py:879: RuntimeWarning: invalid value encountered in greater\n",
      "  return (self.a < x) & (x < self.b)\n",
      "/Users/moattia/anaconda3/lib/python3.7/site-packages/scipy/stats/_distn_infrastructure.py:879: RuntimeWarning: invalid value encountered in less\n",
      "  return (self.a < x) & (x < self.b)\n",
      "/Users/moattia/anaconda3/lib/python3.7/site-packages/scipy/stats/_distn_infrastructure.py:1821: RuntimeWarning: invalid value encountered in less_equal\n",
      "  cond2 = cond0 & (x <= self.a)\n"
     ]
    }
   ],
   "source": [
    "os_data_y = np.ravel(os_data_y)\n",
    "X_train = os_data_X\n",
    "y_train = os_data_y\n",
    "model = Logit(y_train,X_train)\n",
    "model=model.fit(maxiter=100)\n",
    "\n",
    "print(model.summary2())"
   ]
  },
  {
   "cell_type": "markdown",
   "metadata": {},
   "source": [
    "**Conclusion:**  \n",
    "Based on the model summary,\n",
    "The following can be concluded:  \n",
    "1. The variables ['income'] and ['monthly_premium'] have absolutely no effect on the probability of a response from a marketing campaign.  \n",
    "\n",
    "\n",
    "2. ['renew_offer_type_Offer4'] has the strongest negative correlation with the response.\n",
    "\n",
    "\n",
    "3. ['employment_status_Retired'] has the strongest positive correlation with a response."
   ]
  },
  {
   "cell_type": "markdown",
   "metadata": {},
   "source": [
    "#### 3.5 Run the model and create the confusion matrix  \n",
    "\n",
    "Derive the binary estimates $\\hat{y}$ of the response $y$.  \n",
    "  A decision boundary of **0.5** has been used, i.e A threshold value above which the value is classified as 1 and below it it classified as 0.   \n",
    "\n",
    "**To summarize**:  \n",
    "p >= 0.5, $\\hat{y}$ = 1  \n",
    "p <  0.5,   $\\hat{y}$ = 0"
   ]
  },
  {
   "cell_type": "code",
   "execution_count": 22,
   "metadata": {},
   "outputs": [
    {
     "data": {
      "text/plain": [
       "Text(0.5, 15.0, 'Predicted label')"
      ]
     },
     "execution_count": 22,
     "metadata": {},
     "output_type": "execute_result"
    },
    {
     "data": {
      "image/png": "[encoded data removed]",
      "text/plain": [
       "<Figure size 432x288 with 2 Axes>"
      ]
     },
     "metadata": {
      "needs_background": "light"
     },
     "output_type": "display_data"
    }
   ],
   "source": [
    "def predict(df,thresh=0.5):\n",
    "    y_hat_prob= model.predict(df)\n",
    "    y_hat=(y_hat_prob >= thresh) * 1\n",
    "    \n",
    "    return y_hat\n",
    "\n",
    "y_hat= predict(X_test)\n",
    "cnf_matrix=metrics.confusion_matrix(y_hat,y_test)\n",
    "class_names=[0,1]\n",
    "fig, ax = plt.subplots()\n",
    "tick_marks = np.arange(len(class_names))\n",
    "plt.xticks(tick_marks, class_names)\n",
    "plt.yticks(tick_marks, class_names)\n",
    "sns.heatmap(pd.DataFrame(cnf_matrix), annot=True, cmap=\"Blues\" ,fmt='g')\n",
    "ax.xaxis.set_label_position(\"bottom\")\n",
    "plt.tight_layout()\n",
    "plt.title('Confusion matrix', y=10,fontsize=18)\n",
    "plt.ylabel('Actual label',fontsize=18)\n",
    "plt.xlabel('Predicted label',fontsize=18)"
   ]
  },
  {
   "cell_type": "markdown",
   "metadata": {},
   "source": [
    "#### 3.6 Run classification report.  \n",
    "\n",
    "**Precision**: The ability of the classifier NOT to label as positive a sample that is negative.  \n",
    "**Recall**: The ability of the classifier to find all the positive samples.\n",
    "\n",
    "From the report below we can see that recall is 70%.  This means that out of all the customers that responded \"Yes\", we managed to label 70% of them correctly using the predictor variables we selected.  \n",
    "\n",
    "Precision average is also high at 82%"
   ]
  },
  {
   "cell_type": "code",
   "execution_count": 23,
   "metadata": {},
   "outputs": [
    {
     "name": "stdout",
     "output_type": "stream",
     "text": [
      "             precision    recall  f1-score   support\n",
      "\n",
      "          0       0.93      0.61      0.74      2323\n",
      "          1       0.26      0.77      0.39       418\n",
      "\n",
      "avg / total       0.83      0.63      0.68      2741\n",
      "\n"
     ]
    }
   ],
   "source": [
    "from sklearn.metrics import classification_report\n",
    "print(classification_report(y_test, y_hat))"
   ]
  },
  {
   "cell_type": "code",
   "execution_count": 24,
   "metadata": {},
   "outputs": [],
   "source": [
    "test=classification_report(y_test, y_hat)\n"
   ]
  },
  {
   "cell_type": "markdown",
   "metadata": {},
   "source": [
    "#### 3.7 Plotting the Receiver Operating Characteristic (ROC) curve\n",
    "\n",
    "We can see that the Area Under the Curve (AUC) is 0.68 which means that the model is correctly predicting the customers' response approx 70% of the time."
   ]
  },
  {
   "cell_type": "code",
   "execution_count": 27,
   "metadata": {},
   "outputs": [
    {
     "data": {
      "image/png": "[encoded data removed]",
      "text/plain": [
       "<Figure size 720x432 with 1 Axes>"
      ]
     },
     "metadata": {
      "needs_background": "light"
     },
     "output_type": "display_data"
    }
   ],
   "source": [
    "from sklearn.metrics import roc_auc_score\n",
    "from sklearn.metrics import roc_curve\n",
    "logit_roc_auc = roc_auc_score(y_test, model.predict(X_test))\n",
    "fpr, tpr, thresholds = roc_curve(y_test, model.predict(X_test))\n",
    "plt.figure(figsize=(10,6))\n",
    "plt.plot(fpr, tpr, label='Logistic Regression (area = %0.2f)' % logit_roc_auc)\n",
    "plt.plot([0, 1], [0, 1],'r--')\n",
    "plt.xlim([0.0, 1.0])\n",
    "plt.ylim([0.0, 1.05])\n",
    "plt.xlabel('False Positive Rate')\n",
    "plt.ylabel('True Positive Rate')\n",
    "plt.title('Receiver operating characteristic')\n",
    "plt.legend(loc=\"lower right\")\n",
    "\n",
    "plt.show()"
   ]
  },
  {
   "cell_type": "markdown",
   "metadata": {},
   "source": [
    "### 4: Model Improvement\n",
    "We examine the relationship between threshold and precision of the model"
   ]
  },
  {
   "cell_type": "code",
   "execution_count": 26,
   "metadata": {},
   "outputs": [
    {
     "data": {
      "image/png": "[encoded data removed]",
      "text/plain": [
       "<Figure size 720x432 with 1 Axes>"
      ]
     },
     "metadata": {
      "needs_background": "light"
     },
     "output_type": "display_data"
    }
   ],
   "source": [
    "## Returns the accuracy of the true positive\n",
    "\n",
    "def true_pos(cm):\n",
    "    num= cm.iloc[1,1]\n",
    "    denom = np.sum(np.sum(cm))\n",
    "    out= num/denom\n",
    "    \n",
    "    return out\n",
    "\n",
    "def accuracy(predicted,actual):\n",
    "    \n",
    "    diff= predicted - actual\n",
    "    total = len(diff)\n",
    "    incorrect= np.count_nonzero(diff)\n",
    "    \n",
    "    result= (total - incorrect) / total\n",
    "    \n",
    "    return result\n",
    "\n",
    "\n",
    "\n",
    "decision_boundaries= np.arange(0,1,0.01)\n",
    "accuracies=[]\n",
    "db=[]\n",
    "for i in range(len(decision_boundaries)):\n",
    "    try:\n",
    "        p= decision_boundaries[i]\n",
    "        y_hat= predict(X_test,thresh=p)\n",
    "        cm= pd.crosstab(y_hat,y_test)\n",
    "        \n",
    "        accuracies.append(true_pos(cm))\n",
    "        db.append(p)\n",
    "        \n",
    "    \n",
    "    except:\n",
    "        pass\n",
    "\n",
    "accuracies_2=[]\n",
    "for i in range(len(decision_boundaries)):\n",
    "    p = decision_boundaries[i]\n",
    "    y_hat= predict(X_test,thresh=p)\n",
    "    accuracies_2.append(accuracy(y_hat,y_test))\n",
    "    \n",
    "plt.figure(figsize=(10,6))\n",
    "\n",
    "plt.plot(decision_boundaries,accuracies_2)\n",
    "plt.plot(db,accuracies)\n",
    "plt.xlabel('Boundary Threshold',fontsize=12)\n",
    "plt.ylabel('Model Accuracy in %',fontsize=12)\n",
    "#plt.axvline(0.23, color='red')\n",
    "plt.legend(('Overall Model accuracy','True Positive accuracy','Optimum Point'),fontsize=12)\n",
    "plt.show()\n",
    "    "
   ]
  },
  {
   "cell_type": "markdown",
   "metadata": {},
   "source": [
    "**Conclusion:**  \n",
    "This graph visualizes an interesting tradeoff.   \n",
    "As we increase the boundary threshold, we increase the overall model accuracy at the expense of True positive accuracy. \n",
    "\n",
    "Although no ideal optimum points exist (we used a **0.5** threshold previously), we can use this as a guideline to fine tune our desired outcome."
   ]
  },
  {
   "cell_type": "code",
   "execution_count": null,
   "metadata": {},
   "outputs": [],
   "source": []
  }
 ],
 "metadata": {
  "kernelspec": {
   "display_name": "Python 3",
   "language": "python",
   "name": "python3"
  },
  "language_info": {
   "codemirror_mode": {
    "name": "ipython",
    "version": 3
   },
   "file_extension": ".py",
   "mimetype": "text/x-python",
   "name": "python",
   "nbconvert_exporter": "python",
   "pygments_lexer": "ipython3",
   "version": "3.7.3"
  }
 },
 "nbformat": 4,
 "nbformat_minor": 2
}
